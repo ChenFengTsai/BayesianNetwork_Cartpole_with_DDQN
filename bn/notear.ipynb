{
 "cells": [
  {
   "cell_type": "markdown",
   "metadata": {},
   "source": [
    "# BN-Notears"
   ]
  },
  {
   "cell_type": "code",
   "execution_count": 14,
   "metadata": {},
   "outputs": [
    {
     "data": {
      "text/html": [
       "<div>\n",
       "<style scoped>\n",
       "    .dataframe tbody tr th:only-of-type {\n",
       "        vertical-align: middle;\n",
       "    }\n",
       "\n",
       "    .dataframe tbody tr th {\n",
       "        vertical-align: top;\n",
       "    }\n",
       "\n",
       "    .dataframe thead th {\n",
       "        text-align: right;\n",
       "    }\n",
       "</style>\n",
       "<table border=\"1\" class=\"dataframe\">\n",
       "  <thead>\n",
       "    <tr style=\"text-align: right;\">\n",
       "      <th></th>\n",
       "      <th>cart_position</th>\n",
       "      <th>cart_velocity</th>\n",
       "      <th>pole_angle</th>\n",
       "      <th>pole_angular_velocity</th>\n",
       "      <th>action</th>\n",
       "      <th>reward</th>\n",
       "      <th>new_cart_position</th>\n",
       "      <th>new_cart_velocity</th>\n",
       "      <th>new_pole_angle</th>\n",
       "      <th>new_pole_angular_velocity</th>\n",
       "    </tr>\n",
       "  </thead>\n",
       "  <tbody>\n",
       "    <tr>\n",
       "      <th>0</th>\n",
       "      <td>0.000133</td>\n",
       "      <td>0.044334</td>\n",
       "      <td>-0.040978</td>\n",
       "      <td>-0.013006</td>\n",
       "      <td>0</td>\n",
       "      <td>1.0</td>\n",
       "      <td>0.001020</td>\n",
       "      <td>-0.150177</td>\n",
       "      <td>-0.041238</td>\n",
       "      <td>0.266472</td>\n",
       "    </tr>\n",
       "    <tr>\n",
       "      <th>1</th>\n",
       "      <td>0.001020</td>\n",
       "      <td>-0.150177</td>\n",
       "      <td>-0.041238</td>\n",
       "      <td>0.266472</td>\n",
       "      <td>0</td>\n",
       "      <td>1.0</td>\n",
       "      <td>-0.001984</td>\n",
       "      <td>-0.344687</td>\n",
       "      <td>-0.035909</td>\n",
       "      <td>0.545868</td>\n",
       "    </tr>\n",
       "    <tr>\n",
       "      <th>2</th>\n",
       "      <td>-0.001984</td>\n",
       "      <td>-0.344687</td>\n",
       "      <td>-0.035909</td>\n",
       "      <td>0.545868</td>\n",
       "      <td>0</td>\n",
       "      <td>1.0</td>\n",
       "      <td>-0.008877</td>\n",
       "      <td>-0.539287</td>\n",
       "      <td>-0.024991</td>\n",
       "      <td>0.827024</td>\n",
       "    </tr>\n",
       "    <tr>\n",
       "      <th>3</th>\n",
       "      <td>-0.008877</td>\n",
       "      <td>-0.539287</td>\n",
       "      <td>-0.024991</td>\n",
       "      <td>0.827024</td>\n",
       "      <td>0</td>\n",
       "      <td>1.0</td>\n",
       "      <td>-0.019663</td>\n",
       "      <td>-0.734058</td>\n",
       "      <td>-0.008451</td>\n",
       "      <td>1.111744</td>\n",
       "    </tr>\n",
       "    <tr>\n",
       "      <th>4</th>\n",
       "      <td>-0.019663</td>\n",
       "      <td>-0.734058</td>\n",
       "      <td>-0.008451</td>\n",
       "      <td>1.111744</td>\n",
       "      <td>0</td>\n",
       "      <td>1.0</td>\n",
       "      <td>-0.034344</td>\n",
       "      <td>-0.929068</td>\n",
       "      <td>0.013784</td>\n",
       "      <td>1.401764</td>\n",
       "    </tr>\n",
       "    <tr>\n",
       "      <th>...</th>\n",
       "      <td>...</td>\n",
       "      <td>...</td>\n",
       "      <td>...</td>\n",
       "      <td>...</td>\n",
       "      <td>...</td>\n",
       "      <td>...</td>\n",
       "      <td>...</td>\n",
       "      <td>...</td>\n",
       "      <td>...</td>\n",
       "      <td>...</td>\n",
       "    </tr>\n",
       "    <tr>\n",
       "      <th>10008</th>\n",
       "      <td>2.238958</td>\n",
       "      <td>1.797743</td>\n",
       "      <td>0.148956</td>\n",
       "      <td>0.326994</td>\n",
       "      <td>1</td>\n",
       "      <td>1.0</td>\n",
       "      <td>2.274913</td>\n",
       "      <td>1.990466</td>\n",
       "      <td>0.155496</td>\n",
       "      <td>0.084743</td>\n",
       "    </tr>\n",
       "    <tr>\n",
       "      <th>10009</th>\n",
       "      <td>2.274913</td>\n",
       "      <td>1.990466</td>\n",
       "      <td>0.155496</td>\n",
       "      <td>0.084743</td>\n",
       "      <td>1</td>\n",
       "      <td>1.0</td>\n",
       "      <td>2.314722</td>\n",
       "      <td>2.183056</td>\n",
       "      <td>0.157191</td>\n",
       "      <td>-0.155126</td>\n",
       "    </tr>\n",
       "    <tr>\n",
       "      <th>10010</th>\n",
       "      <td>2.314722</td>\n",
       "      <td>2.183056</td>\n",
       "      <td>0.157191</td>\n",
       "      <td>-0.155126</td>\n",
       "      <td>0</td>\n",
       "      <td>1.0</td>\n",
       "      <td>2.358383</td>\n",
       "      <td>1.986074</td>\n",
       "      <td>0.154089</td>\n",
       "      <td>0.182729</td>\n",
       "    </tr>\n",
       "    <tr>\n",
       "      <th>10011</th>\n",
       "      <td>2.358383</td>\n",
       "      <td>1.986074</td>\n",
       "      <td>0.154089</td>\n",
       "      <td>0.182729</td>\n",
       "      <td>1</td>\n",
       "      <td>1.0</td>\n",
       "      <td>2.398105</td>\n",
       "      <td>2.178694</td>\n",
       "      <td>0.157743</td>\n",
       "      <td>-0.057655</td>\n",
       "    </tr>\n",
       "    <tr>\n",
       "      <th>10012</th>\n",
       "      <td>2.398105</td>\n",
       "      <td>2.178694</td>\n",
       "      <td>0.157743</td>\n",
       "      <td>-0.057655</td>\n",
       "      <td>1</td>\n",
       "      <td>1.0</td>\n",
       "      <td>2.441679</td>\n",
       "      <td>2.371244</td>\n",
       "      <td>0.156590</td>\n",
       "      <td>-0.296709</td>\n",
       "    </tr>\n",
       "  </tbody>\n",
       "</table>\n",
       "<p>10013 rows × 10 columns</p>\n",
       "</div>"
      ],
      "text/plain": [
       "       cart_position  cart_velocity  pole_angle  pole_angular_velocity  \\\n",
       "0           0.000133       0.044334   -0.040978              -0.013006   \n",
       "1           0.001020      -0.150177   -0.041238               0.266472   \n",
       "2          -0.001984      -0.344687   -0.035909               0.545868   \n",
       "3          -0.008877      -0.539287   -0.024991               0.827024   \n",
       "4          -0.019663      -0.734058   -0.008451               1.111744   \n",
       "...              ...            ...         ...                    ...   \n",
       "10008       2.238958       1.797743    0.148956               0.326994   \n",
       "10009       2.274913       1.990466    0.155496               0.084743   \n",
       "10010       2.314722       2.183056    0.157191              -0.155126   \n",
       "10011       2.358383       1.986074    0.154089               0.182729   \n",
       "10012       2.398105       2.178694    0.157743              -0.057655   \n",
       "\n",
       "       action  reward  new_cart_position  new_cart_velocity  new_pole_angle  \\\n",
       "0           0     1.0           0.001020          -0.150177       -0.041238   \n",
       "1           0     1.0          -0.001984          -0.344687       -0.035909   \n",
       "2           0     1.0          -0.008877          -0.539287       -0.024991   \n",
       "3           0     1.0          -0.019663          -0.734058       -0.008451   \n",
       "4           0     1.0          -0.034344          -0.929068        0.013784   \n",
       "...       ...     ...                ...                ...             ...   \n",
       "10008       1     1.0           2.274913           1.990466        0.155496   \n",
       "10009       1     1.0           2.314722           2.183056        0.157191   \n",
       "10010       0     1.0           2.358383           1.986074        0.154089   \n",
       "10011       1     1.0           2.398105           2.178694        0.157743   \n",
       "10012       1     1.0           2.441679           2.371244        0.156590   \n",
       "\n",
       "       new_pole_angular_velocity  \n",
       "0                       0.266472  \n",
       "1                       0.545868  \n",
       "2                       0.827024  \n",
       "3                       1.111744  \n",
       "4                       1.401764  \n",
       "...                          ...  \n",
       "10008                   0.084743  \n",
       "10009                  -0.155126  \n",
       "10010                   0.182729  \n",
       "10011                  -0.057655  \n",
       "10012                  -0.296709  \n",
       "\n",
       "[10013 rows x 10 columns]"
      ]
     },
     "execution_count": 14,
     "metadata": {},
     "output_type": "execute_result"
    }
   ],
   "source": [
    "import pickle\n",
    "import pandas as pd\n",
    "import networkx as nx\n",
    "import matplotlib.pyplot as plt\n",
    "\n",
    "# Open the pickle file for reading\n",
    "with open('organized_training_memory.pkl', 'rb') as f:\n",
    "    loaded_data = pickle.load(f)\n",
    "loaded_data\n"
   ]
  },
  {
   "cell_type": "code",
   "execution_count": 142,
   "metadata": {},
   "outputs": [
    {
     "data": {
      "text/plain": [
       "array([1.])"
      ]
     },
     "execution_count": 142,
     "metadata": {},
     "output_type": "execute_result"
    }
   ],
   "source": [
    "loaded_data['reward'].unique()"
   ]
  },
  {
   "cell_type": "code",
   "execution_count": 5,
   "metadata": {},
   "outputs": [
    {
     "data": {
      "text/plain": [
       "(10013, 10)"
      ]
     },
     "execution_count": 5,
     "metadata": {},
     "output_type": "execute_result"
    }
   ],
   "source": [
    "loaded_data.shape"
   ]
  },
  {
   "cell_type": "markdown",
   "metadata": {},
   "source": [
    "### Tranform to csv"
   ]
  },
  {
   "cell_type": "code",
   "execution_count": 8,
   "metadata": {},
   "outputs": [],
   "source": [
    "loaded_data.to_csv('notears_data.csv', index=False, header=False)"
   ]
  },
  {
   "cell_type": "markdown",
   "metadata": {},
   "source": [
    "### Notears"
   ]
  },
  {
   "cell_type": "code",
   "execution_count": 9,
   "metadata": {},
   "outputs": [],
   "source": [
    "!notears_linear notears_data.csv"
   ]
  },
  {
   "cell_type": "code",
   "execution_count": 69,
   "metadata": {},
   "outputs": [],
   "source": [
    "W = pd.read_csv('W_est.csv', header = None)\n",
    "W.columns = loaded_data.columns\n",
    "W = W.round(5)"
   ]
  },
  {
   "cell_type": "code",
   "execution_count": 70,
   "metadata": {},
   "outputs": [
    {
     "data": {
      "text/html": [
       "<div>\n",
       "<style scoped>\n",
       "    .dataframe tbody tr th:only-of-type {\n",
       "        vertical-align: middle;\n",
       "    }\n",
       "\n",
       "    .dataframe tbody tr th {\n",
       "        vertical-align: top;\n",
       "    }\n",
       "\n",
       "    .dataframe thead th {\n",
       "        text-align: right;\n",
       "    }\n",
       "</style>\n",
       "<table border=\"1\" class=\"dataframe\">\n",
       "  <thead>\n",
       "    <tr style=\"text-align: right;\">\n",
       "      <th></th>\n",
       "      <th>cart_position</th>\n",
       "      <th>cart_velocity</th>\n",
       "      <th>pole_angle</th>\n",
       "      <th>pole_angular_velocity</th>\n",
       "      <th>action</th>\n",
       "      <th>reward</th>\n",
       "      <th>new_cart_position</th>\n",
       "      <th>new_cart_velocity</th>\n",
       "      <th>new_pole_angle</th>\n",
       "      <th>new_pole_angular_velocity</th>\n",
       "    </tr>\n",
       "  </thead>\n",
       "  <tbody>\n",
       "    <tr>\n",
       "      <th>0</th>\n",
       "      <td>0.00000</td>\n",
       "      <td>0.0</td>\n",
       "      <td>0.0</td>\n",
       "      <td>0.0</td>\n",
       "      <td>0.0</td>\n",
       "      <td>0.0</td>\n",
       "      <td>0.81991</td>\n",
       "      <td>0.00000</td>\n",
       "      <td>0.0</td>\n",
       "      <td>0.0</td>\n",
       "    </tr>\n",
       "    <tr>\n",
       "      <th>1</th>\n",
       "      <td>0.33205</td>\n",
       "      <td>0.0</td>\n",
       "      <td>0.0</td>\n",
       "      <td>0.0</td>\n",
       "      <td>0.0</td>\n",
       "      <td>0.0</td>\n",
       "      <td>0.00000</td>\n",
       "      <td>0.74381</td>\n",
       "      <td>0.0</td>\n",
       "      <td>0.0</td>\n",
       "    </tr>\n",
       "    <tr>\n",
       "      <th>2</th>\n",
       "      <td>0.00000</td>\n",
       "      <td>0.0</td>\n",
       "      <td>0.0</td>\n",
       "      <td>0.0</td>\n",
       "      <td>0.0</td>\n",
       "      <td>0.0</td>\n",
       "      <td>0.00000</td>\n",
       "      <td>0.00000</td>\n",
       "      <td>0.0</td>\n",
       "      <td>0.0</td>\n",
       "    </tr>\n",
       "    <tr>\n",
       "      <th>3</th>\n",
       "      <td>0.00000</td>\n",
       "      <td>0.0</td>\n",
       "      <td>0.0</td>\n",
       "      <td>0.0</td>\n",
       "      <td>0.0</td>\n",
       "      <td>0.0</td>\n",
       "      <td>0.00000</td>\n",
       "      <td>0.00000</td>\n",
       "      <td>0.0</td>\n",
       "      <td>0.0</td>\n",
       "    </tr>\n",
       "    <tr>\n",
       "      <th>4</th>\n",
       "      <td>0.00000</td>\n",
       "      <td>0.0</td>\n",
       "      <td>0.0</td>\n",
       "      <td>0.0</td>\n",
       "      <td>0.0</td>\n",
       "      <td>0.0</td>\n",
       "      <td>0.00000</td>\n",
       "      <td>0.00000</td>\n",
       "      <td>0.0</td>\n",
       "      <td>0.0</td>\n",
       "    </tr>\n",
       "    <tr>\n",
       "      <th>5</th>\n",
       "      <td>0.00000</td>\n",
       "      <td>0.0</td>\n",
       "      <td>0.0</td>\n",
       "      <td>0.0</td>\n",
       "      <td>0.0</td>\n",
       "      <td>0.0</td>\n",
       "      <td>0.00000</td>\n",
       "      <td>0.00000</td>\n",
       "      <td>0.0</td>\n",
       "      <td>0.0</td>\n",
       "    </tr>\n",
       "    <tr>\n",
       "      <th>6</th>\n",
       "      <td>0.00000</td>\n",
       "      <td>0.0</td>\n",
       "      <td>0.0</td>\n",
       "      <td>0.0</td>\n",
       "      <td>0.0</td>\n",
       "      <td>0.0</td>\n",
       "      <td>0.00000</td>\n",
       "      <td>0.00000</td>\n",
       "      <td>0.0</td>\n",
       "      <td>0.0</td>\n",
       "    </tr>\n",
       "    <tr>\n",
       "      <th>7</th>\n",
       "      <td>0.36032</td>\n",
       "      <td>0.0</td>\n",
       "      <td>0.0</td>\n",
       "      <td>0.0</td>\n",
       "      <td>0.0</td>\n",
       "      <td>0.0</td>\n",
       "      <td>0.00000</td>\n",
       "      <td>0.00000</td>\n",
       "      <td>0.0</td>\n",
       "      <td>0.0</td>\n",
       "    </tr>\n",
       "    <tr>\n",
       "      <th>8</th>\n",
       "      <td>0.00000</td>\n",
       "      <td>0.0</td>\n",
       "      <td>0.0</td>\n",
       "      <td>0.0</td>\n",
       "      <td>0.0</td>\n",
       "      <td>0.0</td>\n",
       "      <td>0.00000</td>\n",
       "      <td>0.00000</td>\n",
       "      <td>0.0</td>\n",
       "      <td>0.0</td>\n",
       "    </tr>\n",
       "    <tr>\n",
       "      <th>9</th>\n",
       "      <td>0.00000</td>\n",
       "      <td>0.0</td>\n",
       "      <td>0.0</td>\n",
       "      <td>0.0</td>\n",
       "      <td>0.0</td>\n",
       "      <td>0.0</td>\n",
       "      <td>0.00000</td>\n",
       "      <td>0.00000</td>\n",
       "      <td>0.0</td>\n",
       "      <td>0.0</td>\n",
       "    </tr>\n",
       "  </tbody>\n",
       "</table>\n",
       "</div>"
      ],
      "text/plain": [
       "   cart_position  cart_velocity  pole_angle  pole_angular_velocity  action  \\\n",
       "0        0.00000            0.0         0.0                    0.0     0.0   \n",
       "1        0.33205            0.0         0.0                    0.0     0.0   \n",
       "2        0.00000            0.0         0.0                    0.0     0.0   \n",
       "3        0.00000            0.0         0.0                    0.0     0.0   \n",
       "4        0.00000            0.0         0.0                    0.0     0.0   \n",
       "5        0.00000            0.0         0.0                    0.0     0.0   \n",
       "6        0.00000            0.0         0.0                    0.0     0.0   \n",
       "7        0.36032            0.0         0.0                    0.0     0.0   \n",
       "8        0.00000            0.0         0.0                    0.0     0.0   \n",
       "9        0.00000            0.0         0.0                    0.0     0.0   \n",
       "\n",
       "   reward  new_cart_position  new_cart_velocity  new_pole_angle  \\\n",
       "0     0.0            0.81991            0.00000             0.0   \n",
       "1     0.0            0.00000            0.74381             0.0   \n",
       "2     0.0            0.00000            0.00000             0.0   \n",
       "3     0.0            0.00000            0.00000             0.0   \n",
       "4     0.0            0.00000            0.00000             0.0   \n",
       "5     0.0            0.00000            0.00000             0.0   \n",
       "6     0.0            0.00000            0.00000             0.0   \n",
       "7     0.0            0.00000            0.00000             0.0   \n",
       "8     0.0            0.00000            0.00000             0.0   \n",
       "9     0.0            0.00000            0.00000             0.0   \n",
       "\n",
       "   new_pole_angular_velocity  \n",
       "0                        0.0  \n",
       "1                        0.0  \n",
       "2                        0.0  \n",
       "3                        0.0  \n",
       "4                        0.0  \n",
       "5                        0.0  \n",
       "6                        0.0  \n",
       "7                        0.0  \n",
       "8                        0.0  \n",
       "9                        0.0  "
      ]
     },
     "execution_count": 70,
     "metadata": {},
     "output_type": "execute_result"
    }
   ],
   "source": [
    "W"
   ]
  },
  {
   "cell_type": "code",
   "execution_count": 71,
   "metadata": {},
   "outputs": [
    {
     "data": {
      "text/plain": [
       "{0: 'cart_position',\n",
       " 1: 'cart_velocity',\n",
       " 2: 'pole_angle',\n",
       " 3: 'pole_angular_velocity',\n",
       " 4: 'action',\n",
       " 5: 'reward',\n",
       " 6: 'new_cart_position',\n",
       " 7: 'new_cart_velocity',\n",
       " 8: 'new_pole_angle',\n",
       " 9: 'new_pole_angular_velocity'}"
      ]
     },
     "execution_count": 71,
     "metadata": {},
     "output_type": "execute_result"
    }
   ],
   "source": [
    "node_names_dict = {index: column_name for index, column_name in enumerate(W.columns)}\n",
    "node_names_dict"
   ]
  },
  {
   "cell_type": "code",
   "execution_count": 72,
   "metadata": {},
   "outputs": [],
   "source": [
    "# Create a directed graph (DiGraph)\n",
    "G = nx.DiGraph()\n",
    "\n",
    "# Add weighted edges based on the adjacency matrix\n",
    "for row in range(W.shape[0]):\n",
    "    for col in range(W.shape[1]):\n",
    "        weight = W.iloc[row, col]\n",
    "        if weight > 0:\n",
    "            G.add_edge(row, col, weight=weight)\n"
   ]
  },
  {
   "cell_type": "code",
   "execution_count": 75,
   "metadata": {},
   "outputs": [
    {
     "data": {
      "image/png": "[encoded data removed]",
      "text/plain": [
       "<Figure size 640x480 with 1 Axes>"
      ]
     },
     "metadata": {},
     "output_type": "display_data"
    }
   ],
   "source": [
    "# Draw the graph\n",
    "H = nx.relabel_nodes(G, node_names_dict)\n",
    "pos = nx.spring_layout(H)  # Layout for visualization\n",
    "edge_labels = {(u, v): d['weight'] for u, v, d in H.edges(data=True)}\n",
    "\n",
    "# Draw the graph with custom node labels\n",
    "nx.draw(H, pos, node_size=500, font_size=10, with_labels=True)\n",
    "\n",
    "# Draw edge labels\n",
    "nx.draw_networkx_edge_labels(H, pos, edge_labels=edge_labels)\n",
    "\n",
    "plt.margins(0.1) \n",
    "plt.show()"
   ]
  },
  {
   "cell_type": "markdown",
   "metadata": {},
   "source": [
    "## Dagma - linear"
   ]
  },
  {
   "cell_type": "code",
   "execution_count": 76,
   "metadata": {},
   "outputs": [
    {
     "name": "stderr",
     "output_type": "stream",
     "text": [
      "/Users/richtsai1103/bn_dqn/.venv/lib/python3.10/site-packages/tqdm/auto.py:21: TqdmWarning: IProgress not found. Please update jupyter and ipywidgets. See https://ipywidgets.readthedocs.io/en/stable/user_install.html\n",
      "  from .autonotebook import tqdm as notebook_tqdm\n"
     ]
    }
   ],
   "source": [
    "import torch\n",
    "from dagma import utils\n",
    "from dagma.linear import DagmaLinear\n",
    "from dagma.nonlinear import DagmaMLP, DagmaNonlinear"
   ]
  },
  {
   "cell_type": "code",
   "execution_count": 93,
   "metadata": {},
   "outputs": [
    {
     "data": {
      "text/plain": [
       "array([[ 1.3329688e-04,  4.4333853e-02, -4.0977940e-02, ...,\n",
       "        -1.5017720e-01, -4.1238050e-02,  2.6647190e-01],\n",
       "       [ 1.0199739e-03, -1.5017720e-01, -4.1238050e-02, ...,\n",
       "        -3.4468707e-01, -3.5908613e-02,  5.4586810e-01],\n",
       "       [-1.9835700e-03, -3.4468707e-01, -3.5908613e-02, ...,\n",
       "        -5.3928655e-01, -2.4991252e-02,  8.2702434e-01],\n",
       "       ...,\n",
       "       [ 2.3147223e+00,  2.1830564e+00,  1.5719102e-01, ...,\n",
       "         1.9860739e+00,  1.5408851e-01,  1.8272900e-01],\n",
       "       [ 2.3583834e+00,  1.9860739e+00,  1.5408851e-01, ...,\n",
       "         2.1786938e+00,  1.5774310e-01, -5.7654600e-02],\n",
       "       [ 2.3981050e+00,  2.1786938e+00,  1.5774310e-01, ...,\n",
       "         2.3712437e+00,  1.5659000e-01, -2.9670906e-01]])"
      ]
     },
     "execution_count": 93,
     "metadata": {},
     "output_type": "execute_result"
    }
   ],
   "source": [
    "df = pd.read_csv(\"notears_data.csv\", header = None)\n",
    "X = df.values\n",
    "X"
   ]
  },
  {
   "cell_type": "code",
   "execution_count": 94,
   "metadata": {},
   "outputs": [
    {
     "data": {
      "text/plain": [
       "(10013, 10)"
      ]
     },
     "execution_count": 94,
     "metadata": {},
     "output_type": "execute_result"
    }
   ],
   "source": [
    "X.shape"
   ]
  },
  {
   "cell_type": "code",
   "execution_count": 95,
   "metadata": {},
   "outputs": [
    {
     "name": "stderr",
     "output_type": "stream",
     "text": [
      "100%|██████████| 180000/180000.0 [00:06<00:00, 26189.07it/s]\n"
     ]
    }
   ],
   "source": [
    "model = DagmaLinear(loss_type='l2') # create a linear model with least squares loss\n",
    "W_est = model.fit(X, lambda1=0.02) # fit the model with L1 reg. (coeff. 0.02)"
   ]
  },
  {
   "cell_type": "code",
   "execution_count": 96,
   "metadata": {},
   "outputs": [
    {
     "data": {
      "text/plain": [
       "array([[ 0.        ,  0.        ,  0.        ,  0.        ,  0.        ,\n",
       "         0.        ,  0.97606216,  0.        ,  0.        ,  0.        ],\n",
       "       [ 0.56239709,  0.        ,  0.        ,  0.        ,  0.        ,\n",
       "         0.        ,  0.        ,  0.94782913,  0.        ,  0.        ],\n",
       "       [ 0.        ,  0.        ,  0.        ,  0.        ,  0.        ,\n",
       "         0.        ,  0.        ,  0.        ,  0.        ,  0.        ],\n",
       "       [ 0.38535913, -0.71965522,  0.        ,  0.        ,  1.22960278,\n",
       "         0.        ,  0.        ,  0.        ,  0.        ,  0.        ],\n",
       "       [ 0.        ,  0.        ,  0.        ,  0.        ,  0.        ,\n",
       "         0.        ,  0.        ,  0.30184511,  0.        ,  0.        ],\n",
       "       [ 0.        ,  0.        ,  0.        ,  0.        ,  0.        ,\n",
       "         0.        ,  0.        ,  0.        ,  0.        ,  0.        ],\n",
       "       [ 0.        ,  0.        ,  0.        ,  0.        ,  0.        ,\n",
       "         0.        ,  0.        ,  0.        ,  0.        ,  0.        ],\n",
       "       [ 0.50833522,  0.        ,  0.        ,  0.        ,  0.        ,\n",
       "         0.        ,  0.        ,  0.        ,  0.        ,  0.        ],\n",
       "       [ 0.        ,  0.        ,  0.        ,  0.        ,  0.        ,\n",
       "         0.        ,  0.        ,  0.        ,  0.        ,  0.        ],\n",
       "       [ 0.36427419,  0.        ,  0.        ,  0.55109617, -1.2521379 ,\n",
       "         0.        ,  0.        ,  0.        ,  0.        ,  0.        ]])"
      ]
     },
     "execution_count": 96,
     "metadata": {},
     "output_type": "execute_result"
    }
   ],
   "source": [
    "W_est"
   ]
  },
  {
   "cell_type": "code",
   "execution_count": 108,
   "metadata": {},
   "outputs": [],
   "source": [
    "W_est = pd.DataFrame(W_est)\n",
    "W_est = W_est.round(2)"
   ]
  },
  {
   "cell_type": "code",
   "execution_count": 109,
   "metadata": {},
   "outputs": [],
   "source": [
    "# Create a directed graph (DiGraph)\n",
    "G = nx.DiGraph()\n",
    "\n",
    "# Add weighted edges based on the adjacency matrix\n",
    "for row in range(W_est.shape[0]):\n",
    "    for col in range(W_est.shape[1]):\n",
    "        weight = W_est.iloc[row, col]\n",
    "        if weight > 0:\n",
    "            G.add_edge(row, col, weight=weight)"
   ]
  },
  {
   "cell_type": "code",
   "execution_count": 114,
   "metadata": {},
   "outputs": [
    {
     "data": {
      "image/png": "[encoded data removed]",
      "text/plain": [
       "<Figure size 640x480 with 1 Axes>"
      ]
     },
     "metadata": {},
     "output_type": "display_data"
    }
   ],
   "source": [
    "# Draw the graph\n",
    "H = nx.relabel_nodes(G, node_names_dict)\n",
    "pos = nx.spring_layout(H)  # Layout for visualization\n",
    "edge_labels = {(u, v): d['weight'] for u, v, d in H.edges(data=True)}\n",
    "\n",
    "# Draw the graph with custom node labels\n",
    "nx.draw(H, pos, node_size=500, font_size=10, with_labels=True)\n",
    "\n",
    "# Draw edge labels\n",
    "nx.draw_networkx_edge_labels(H, pos, edge_labels=edge_labels)\n",
    "\n",
    "plt.margins(0.1) \n",
    "plt.show()"
   ]
  },
  {
   "cell_type": "markdown",
   "metadata": {},
   "source": [
    "## Dagma - nonlinear"
   ]
  },
  {
   "cell_type": "code",
   "execution_count": 115,
   "metadata": {},
   "outputs": [
    {
     "name": "stderr",
     "output_type": "stream",
     "text": [
      "100%|██████████| 230000/230000.0 [1:52:47<00:00, 33.99it/s]  \n"
     ]
    }
   ],
   "source": [
    "eq_model = DagmaMLP(dims=[10, 10, 1], bias=True, dtype=torch.double) # create the model for the structural equations, in this case MLPs\n",
    "model = DagmaNonlinear(eq_model, dtype=torch.double) # create the model for DAG learning\n",
    "W_est = model.fit(X, lambda1=0.02, lambda2=0.005) "
   ]
  },
  {
   "cell_type": "code",
   "execution_count": 139,
   "metadata": {},
   "outputs": [
    {
     "data": {
      "image/png": "[encoded data removed]",
      "text/plain": [
       "<Figure size 640x480 with 1 Axes>"
      ]
     },
     "metadata": {},
     "output_type": "display_data"
    }
   ],
   "source": [
    "W_est = pd.DataFrame(W_est)\n",
    "W_est = W_est.round(2)\n",
    "# Create a directed graph (DiGraph)\n",
    "G = nx.DiGraph()\n",
    "\n",
    "# Add weighted edges based on the adjacency matrix\n",
    "for row in range(W_est.shape[0]):\n",
    "    for col in range(W_est.shape[1]):\n",
    "        weight = W_est.iloc[row, col]\n",
    "        if weight > 0:\n",
    "            G.add_edge(row, col, weight=weight)\n",
    "\n",
    "# Draw the graph\n",
    "H = nx.relabel_nodes(G, node_names_dict)\n",
    "pos = nx.spring_layout(H)  # Layout for visualization\n",
    "edge_labels = {(u, v): d['weight'] for u, v, d in H.edges(data=True)}\n",
    "\n",
    "# Draw the graph with custom node labels\n",
    "nx.draw(H, pos, node_size=500, font_size=7, with_labels=True)\n",
    "\n",
    "# Draw edge labels\n",
    "nx.draw_networkx_edge_labels(H, pos, edge_labels=edge_labels)\n",
    "\n",
    "plt.margins(0.1) \n",
    "plt.show()\n"
   ]
  },
  {
   "cell_type": "code",
   "execution_count": null,
   "metadata": {},
   "outputs": [],
   "source": []
  }
 ],
 "metadata": {
  "kernelspec": {
   "display_name": "Python 3.11.5 ('.venv': poetry)",
   "language": "python",
   "name": "python3"
  },
  "language_info": {
   "codemirror_mode": {
    "name": "ipython",
    "version": 3
   },
   "file_extension": ".py",
   "mimetype": "text/x-python",
   "name": "python",
   "nbconvert_exporter": "python",
   "pygments_lexer": "ipython3",
   "version": "3.10.11"
  },
  "orig_nbformat": 4,
  "vscode": {
   "interpreter": {
    "hash": "e9dea603bf0509bc537a8785277d9af174e64eef4ef277f4a884d61893c48908"
   }
  }
 },
 "nbformat": 4,
 "nbformat_minor": 2
}
